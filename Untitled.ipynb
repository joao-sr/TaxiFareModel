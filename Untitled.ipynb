{
 "cells": [
  {
   "cell_type": "code",
   "execution_count": 1,
   "id": "f3c42e4d-019e-444e-bf0b-8ca8334f6cb5",
   "metadata": {},
   "outputs": [],
   "source": [
    "%load_ext autoreload\n",
    "%autoreload 2"
   ]
  },
  {
   "cell_type": "code",
   "execution_count": null,
   "id": "368a2ef5-e1af-4d51-95d4-cee8ad646994",
   "metadata": {},
   "outputs": [],
   "source": []
  },
  {
   "cell_type": "code",
   "execution_count": 2,
   "id": "6ac7913b-c8f7-4964-8967-e7e2a743f6ef",
   "metadata": {},
   "outputs": [],
   "source": [
    "from TaxiFareModel.trainer import Trainer"
   ]
  },
  {
   "cell_type": "code",
   "execution_count": 9,
   "id": "9b0e37f6-1aae-4f93-bdde-10cfe4b7e137",
   "metadata": {},
   "outputs": [],
   "source": [
    "from TaxiFareModel.data import get_data, clean_data"
   ]
  },
  {
   "cell_type": "code",
   "execution_count": 10,
   "id": "f453156c-ff6d-401d-8f60-97e4dd8dfb07",
   "metadata": {},
   "outputs": [],
   "source": [
    "data = get_data(nrows=10000)"
   ]
  },
  {
   "cell_type": "code",
   "execution_count": 11,
   "id": "f57d3a01-4699-491d-a725-434ceaf6c0b1",
   "metadata": {},
   "outputs": [],
   "source": [
    "data_clean = clean_data(data)"
   ]
  },
  {
   "cell_type": "code",
   "execution_count": 12,
   "id": "279e39a7-7a21-4287-9798-7dd878f67103",
   "metadata": {},
   "outputs": [],
   "source": [
    "X = data_clean.drop(\"fare_amount\", axis=1)\n",
    "y = data_clean[\"fare_amount\"]"
   ]
  },
  {
   "cell_type": "code",
   "execution_count": 15,
   "id": "6eb08d34-942d-4a62-86b6-5a92f6ccbfb3",
   "metadata": {},
   "outputs": [],
   "source": [
    "trainer = Trainer(X, y)"
   ]
  },
  {
   "cell_type": "code",
   "execution_count": 16,
   "id": "393e9621-e8a6-43da-8bda-0b842497372a",
   "metadata": {},
   "outputs": [
    {
     "name": "stdout",
     "output_type": "stream",
     "text": [
      "9.063421319892988\n",
      "eval\n"
     ]
    },
    {
     "data": {
      "text/plain": [
       "9.063421319892988"
      ]
     },
     "execution_count": 16,
     "metadata": {},
     "output_type": "execute_result"
    }
   ],
   "source": [
    "trainer.evaluate()"
   ]
  },
  {
   "cell_type": "code",
   "execution_count": 17,
   "id": "fbd66ac1-7d79-4e88-ae73-edfe17db2a65",
   "metadata": {},
   "outputs": [
    {
     "data": {
      "text/plain": [
       "9.063421319892988"
      ]
     },
     "execution_count": 17,
     "metadata": {},
     "output_type": "execute_result"
    }
   ],
   "source": [
    "trainer.evaluate()"
   ]
  },
  {
   "cell_type": "code",
   "execution_count": null,
   "id": "b2471e9f-270f-4fd1-9e70-2478eb24c78b",
   "metadata": {},
   "outputs": [],
   "source": []
  }
 ],
 "metadata": {
  "kernelspec": {
   "display_name": "Python 3 (ipykernel)",
   "language": "python",
   "name": "python3"
  },
  "language_info": {
   "codemirror_mode": {
    "name": "ipython",
    "version": 3
   },
   "file_extension": ".py",
   "mimetype": "text/x-python",
   "name": "python",
   "nbconvert_exporter": "python",
   "pygments_lexer": "ipython3",
   "version": "3.8.12"
  }
 },
 "nbformat": 4,
 "nbformat_minor": 5
}
